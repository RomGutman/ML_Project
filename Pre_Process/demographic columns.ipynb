{
 "cells": [
  {
   "cell_type": "code",
   "execution_count": 1,
   "metadata": {
    "collapsed": true
   },
   "outputs": [],
   "source": [
    "import pandas as pd\n",
    "import os\n",
    "import numpy as np"
   ]
  },
  {
   "cell_type": "code",
   "execution_count": 12,
   "metadata": {
    "collapsed": true
   },
   "outputs": [],
   "source": [
    "# Input: demographic \n",
    "# Uotput: demographic fetchers"
   ]
  },
  {
   "cell_type": "code",
   "execution_count": 2,
   "metadata": {
    "collapsed": true
   },
   "outputs": [],
   "source": [
    "path = os.path.dirname(os.path.abspath(os.curdir))"
   ]
  },
  {
   "cell_type": "code",
   "execution_count": 3,
   "metadata": {},
   "outputs": [
    {
     "data": {
      "text/plain": [
       "'C:\\\\Users\\\\RomG\\\\PycharmProjects\\\\ML_Project'"
      ]
     },
     "execution_count": 3,
     "metadata": {},
     "output_type": "execute_result"
    }
   ],
   "source": [
    "path"
   ]
  },
  {
   "cell_type": "code",
   "execution_count": 4,
   "metadata": {
    "collapsed": true
   },
   "outputs": [],
   "source": [
    "data_path = os.path.join(path, 'data','demo','demographic.csv')"
   ]
  },
  {
   "cell_type": "code",
   "execution_count": 5,
   "metadata": {},
   "outputs": [
    {
     "data": {
      "text/plain": [
       "'C:\\\\Users\\\\RomG\\\\PycharmProjects\\\\ML_Project\\\\data\\\\demo\\\\demographic.csv'"
      ]
     },
     "execution_count": 5,
     "metadata": {},
     "output_type": "execute_result"
    }
   ],
   "source": [
    "data_path"
   ]
  },
  {
   "cell_type": "code",
   "execution_count": 6,
   "metadata": {},
   "outputs": [
    {
     "name": "stderr",
     "output_type": "stream",
     "text": [
      "C:\\ProgramData\\Anaconda3\\lib\\site-packages\\IPython\\core\\interactiveshell.py:2785: DtypeWarning: Columns (42) have mixed types. Specify dtype option on import or set low_memory=False.\n",
      "  interactivity=interactivity, compiler=compiler, result=result)\n"
     ]
    }
   ],
   "source": [
    "df = pd.read_csv(data_path)"
   ]
  },
  {
   "cell_type": "code",
   "execution_count": 7,
   "metadata": {
    "collapsed": true
   },
   "outputs": [],
   "source": [
    "df = df.drop(['Unnamed: 0', 'device-id'], axis=1)"
   ]
  },
  {
   "cell_type": "code",
   "execution_count": 8,
   "metadata": {
    "collapsed": true
   },
   "outputs": [],
   "source": [
    "# df.head(10)\n",
    "df = df.drop_duplicates()"
   ]
  },
  {
   "cell_type": "code",
   "execution_count": 9,
   "metadata": {},
   "outputs": [
    {
     "data": {
      "text/plain": [
       "array(['Household ID', 'Household size', 'Number of Adults',\n",
       "       'Number of Generations in Household',\n",
       "       'Adult ranges present in household', 'Marital Status', 'Race Code',\n",
       "       'Presence of Children', 'Number of Children', \"Children's Ages\",\n",
       "       \"Children's age ranges\", 'Dwelling Type', 'Home owner status',\n",
       "       'Length of Residence', 'Home Market Value', 'Number of Vehicles',\n",
       "       'Vehicle Make Code', 'Vehicle Model Code', 'Vehicle Year',\n",
       "       'Net Worth', 'Income', 'Gender Individual', 'Age of individuals',\n",
       "       'Education Input Individuals', 'Occupation Input Individuals',\n",
       "       'Education of 1st Individual', 'Occupation - 1st Individual',\n",
       "       'Age of the 2nd individual', 'Education of 2nd Individual',\n",
       "       'Occupation - 2nd Individual', 'Age of the 3rd individual',\n",
       "       'Education of 3rd Individual', 'Occupation - 3rd Individual',\n",
       "       'Age of 4th Individual', 'Age of 4th Individual.1',\n",
       "       'Occupation - 4th Individual', 'Age of 5th Individual',\n",
       "       'Education of 5th Individual', 'Occupation - 5th Individual',\n",
       "       'Political Party - 1st Individual', 'Voter/Party',\n",
       "       'Household Clusters', 'Insurance Groups', 'Financial Groups',\n",
       "       'Green Living', 'dma', 'dma-code', 'household-id',\n",
       "       'household-type', 'mso_code', 'mso_name', 'system-type', 'zipcode'],\n",
       "      dtype=object)"
      ]
     },
     "execution_count": 9,
     "metadata": {},
     "output_type": "execute_result"
    }
   ],
   "source": [
    "# print(df.columns.shape)\n",
    "df.columns.values"
   ]
  },
  {
   "cell_type": "code",
   "execution_count": 10,
   "metadata": {
    "collapsed": true
   },
   "outputs": [],
   "source": [
    "df = df.rename(index=str, columns={\"Age of 4th Individual.1\": \"Education 4th Individual\"})"
   ]
  },
  {
   "cell_type": "code",
   "execution_count": 11,
   "metadata": {
    "collapsed": true
   },
   "outputs": [],
   "source": [
    "# 'Household size' ->\n",
    "\n",
    "df['Household size'] = df['Household size'].astype('str') \n",
    "temp_map = {'1.0': '1_person_in_house', '2.0':'2_person_in_house', '3.0': '3_person_in_house', '4.0': '4_person_in_house', '5.0': '5_person_in_house', '6.0': '6_person_in_house', '7.0': '7_person_in_house', '8.0': '8_person_in_house', '9.0': 'up_8_person_in_house'}\n",
    "df['Household size'] = df['Household size'].map(temp_map)\n",
    "temp_df = pd.get_dummies(df['Household size'],dummy_na=True)\n",
    "temp_df.columns = temp_df.columns.fillna('household_size_default')\n",
    "df = pd.concat([df.drop('Household size', axis=1), temp_df], axis=1)"
   ]
  },
  {
   "cell_type": "code",
   "execution_count": 12,
   "metadata": {
    "collapsed": true
   },
   "outputs": [],
   "source": [
    "# Number of Adults\n",
    "\n",
    "df['Number of Adults'] = df['Number of Adults'].astype('str') \n",
    "temp_map = {'1.0': '1_adults', '2.0':'2_adults', '3.0': '3_adults', '4.0': '4_adults', '5.0': '5_adults', '6.0': 'up_6_adults' }\n",
    "df['Number of Adults'] = df['Number of Adults'].map(temp_map)\n",
    "temp_df = pd.get_dummies(df['Number of Adults'],dummy_na=True)\n",
    "temp_df.columns = temp_df.columns.fillna('number_adults_default')\n",
    "df = pd.concat([df.drop('Number of Adults', axis=1), temp_df], axis=1)"
   ]
  },
  {
   "cell_type": "code",
   "execution_count": 13,
   "metadata": {
    "collapsed": true
   },
   "outputs": [],
   "source": [
    "# df['Number of Children']\n",
    "\n",
    "df['Number of Children'] = df['Number of Children'].astype('str') \n",
    "temp_map = {'0.0': 'no_child', '1.0': '1_children', '2.0':'2_children', '3.0': '3_children', '4.0': '4_children', '5.0': '5_children', '6.0': '6_children','7.0':'7_children','8.0':'up_7_children' }\n",
    "df['Number of Children'] = df['Number of Children'].map(temp_map)\n",
    "temp_df = pd.get_dummies(df['Number of Children'],dummy_na=True)\n",
    "temp_df.columns = temp_df.columns.fillna('number_children_default')\n",
    "df = pd.concat([df.drop('Number of Children', axis=1), temp_df], axis=1)"
   ]
  },
  {
   "cell_type": "code",
   "execution_count": 14,
   "metadata": {
    "collapsed": true
   },
   "outputs": [],
   "source": [
    "# 'Number of Generations in Household'\n",
    "\n",
    "df['Number of Generations in Household'] = df['Number of Generations in Household'].astype('str') \n",
    "temp_map = {'1.0': '1_generations', '2.0':'2_generations', '3.0': '3_generations'  }\n",
    "df['Number of Generations in Household'] = df['Number of Generations in Household'].map(temp_map)\n",
    "temp_df = pd.get_dummies(df['Number of Generations in Household'],dummy_na=True)\n",
    "temp_df.columns = temp_df.columns.fillna('number_generations_default')\n",
    "df = pd.concat([df.drop('Number of Generations in Household', axis=1), temp_df], axis=1)"
   ]
  },
  {
   "cell_type": "code",
   "execution_count": 15,
   "metadata": {
    "collapsed": true
   },
   "outputs": [],
   "source": [
    "# column 'Adult ranges present in household' -> 21 columns\n",
    "columns = ['males18-24','females18-24','unknown_gender18-24','males25-34','females25-34','unknown_gender25-34','males35-44','females35-44','unknown_gender35-44','males45-54','females45-54','unknown_gender45-54','males55-64','females55-64','unknown_gender55-64','males65-74','females65-74','unknown_gender65-74','males75','females75','unknown_gender75']\n",
    "for i in range(21):\n",
    "    df[columns[i]] = df['Adult ranges present in household'].str[i:i+1]\n",
    "\n",
    "df = df.drop(['Adult ranges present in household'], axis=1)\n",
    "\n",
    "mapper = {'A': 1, 'G': 1, 1:1, '0': 0, '1':1, 0:0}\n",
    "df['unknown_gender75'].replace(mapper, inplace=True)"
   ]
  },
  {
   "cell_type": "code",
   "execution_count": 16,
   "metadata": {
    "collapsed": true
   },
   "outputs": [],
   "source": [
    "# column 'Marital Status' -> married, single, inferred_married, inferred_single, marital_status-default\n",
    "temp_map = {'M': 'married', 'S': 'single','A': 'inferred_married' ,'B': 'inferred_single'}\n",
    "df['Marital Status'] = df['Marital Status'].map(temp_map)\n",
    "\n",
    "temp_df = pd.get_dummies(df['Marital Status'],dummy_na=True)\n",
    "\n",
    "temp_df.columns = temp_df.columns.fillna('marital_status_default')\n",
    "\n",
    "df = pd.concat([df.drop('Marital Status', axis=1), temp_df], axis=1)\n",
    "\n",
    "\n",
    "# values = {'Marital Status': 'ZZ'}\n",
    "# df = df.fillna(value=values)\n",
    "# columns = ['married', 'single', 'inferred_married', 'inferred_single', 'marital_status_default']\n",
    "# values = ['M','S','A','B','ZZ' ]\n",
    "# for i in range(5):\n",
    "#     df[columns[i]] = 0\n",
    "#     df.loc[df['Marital Status'] == values[i], columns[i]] = 1\n",
    "    \n",
    "# df = df.drop(['Marital Status'], axis=1)"
   ]
  },
  {
   "cell_type": "code",
   "execution_count": 17,
   "metadata": {
    "collapsed": true
   },
   "outputs": [],
   "source": [
    "# column 'Race Code' -> asian, african_american, hispanic, White_Other, race_default\n",
    "temp_map = {'A': 'asian','B': 'african_american','H': 'hispanic','W': 'White_Other'}\n",
    "df['Race Code'] = df['Race Code'].map(temp_map)\n",
    "\n",
    "temp_df = pd.get_dummies(df['Race Code'],dummy_na=True)\n",
    "\n",
    "temp_df.columns = temp_df.columns.fillna('race_default')\n",
    "\n",
    "df = pd.concat([df.drop('Race Code', axis=1), temp_df], axis=1)\n"
   ]
  },
  {
   "cell_type": "code",
   "execution_count": 18,
   "metadata": {
    "collapsed": true
   },
   "outputs": [],
   "source": [
    "# 'Presence of Children' ->  'no_child', 'children', 'children_default'\n",
    "temp_map = {'N': 'no_child', 'Y': 'children'}\n",
    "df['Presence of Children'] = df['Presence of Children'].map(temp_map)\n",
    "\n",
    "temp_df = pd.get_dummies(df['Presence of Children'],dummy_na=True)\n",
    "\n",
    "temp_df.columns = temp_df.columns.fillna('children_default')\n",
    "df = pd.concat([df.drop('Presence of Children', axis=1), temp_df], axis=1)"
   ]
  },
  {
   "cell_type": "code",
   "execution_count": 19,
   "metadata": {
    "collapsed": true
   },
   "outputs": [],
   "source": [
    "# column 'Children's Ages' -> 19 columns\n",
    "df[\"Children's Ages\"] = df[\"Children's Ages\"].astype('str').str.pad(19, side='left', fillchar='0')\n",
    "\n",
    "columns = ['age < 1','age_1','age_2','age_3','age_4','age_5','age_6','age_7','age_8','age_9','age_10','age_11','age_12','age_13','age_14','age_15','age_16','age_17','age_18']\n",
    "for i in range(19):\n",
    "    df[columns[i]] = df[\"Children's Ages\"].str[i:i+1]\n",
    "\n",
    "df = df.drop([\"Children's Ages\"], axis=1)"
   ]
  },
  {
   "cell_type": "code",
   "execution_count": 20,
   "metadata": {
    "collapsed": true
   },
   "outputs": [],
   "source": [
    "# column 'Children's age ranges' -> 15 columns\n",
    "df[\"Children's age ranges\"] = df[\"Children's age ranges\"].astype('str').str.pad(15, side='left', fillchar='0')\n",
    "\n",
    "columns = ['males_00-02','females_00-02','unknown_gender_00-02', 'males_03-05','females_03-05','unknown_gender_03-05', 'males_06-10','females_06-10','unknown_gender_06-10', 'males_11-15','females_11-15','unknown_gender_11-15', 'males_16-17','females_16-17','unknown_gender_16-17' ]\n",
    "for i in range(15):\n",
    "    df[columns[i]] = df[\"Children's age ranges\"].str[i:i+1]\n",
    "    \n",
    "df = df.drop([\"Children's age ranges\"], axis=1)"
   ]
  },
  {
   "cell_type": "code",
   "execution_count": 21,
   "metadata": {
    "collapsed": true
   },
   "outputs": [],
   "source": [
    "# Dwelling Type - > 'multiple_family_dwelling_unit', 'single_family_dwelling_unit', 'dwelling_type_default'\n",
    "temp_map = {'M': 'multiple_family_dwelling_unit','S':'single_family_dwelling_unit'}\n",
    "df['Dwelling Type'] = df['Dwelling Type'].map(temp_map)\n",
    "temp_df = pd.get_dummies(df['Dwelling Type'],dummy_na=True)\n",
    "temp_df.columns = temp_df.columns.fillna('dwelling_type_default')\n",
    "df = pd.concat([df.drop('Dwelling Type', axis=1), temp_df], axis=1)"
   ]
  },
  {
   "cell_type": "code",
   "execution_count": 22,
   "metadata": {
    "collapsed": true
   },
   "outputs": [],
   "source": [
    "# Home owner status -> 'home_owner', 'renter', 'home_owner_default'\n",
    "temp_map = {'O': 'home_owner' ,'R':'renter'}\n",
    "df['Home owner status'] = df['Home owner status'].map(temp_map)\n",
    "temp_df = pd.get_dummies(df['Home owner status'],dummy_na=True)\n",
    "temp_df.columns = temp_df.columns.fillna('home_owner_default')\n",
    "df = pd.concat([df.drop('Home owner status', axis=1), temp_df], axis=1)"
   ]
  },
  {
   "cell_type": "code",
   "execution_count": 23,
   "metadata": {
    "collapsed": true
   },
   "outputs": [],
   "source": [
    "# Length of Residence -> 16\n",
    "df['Length of Residence'] = df['Length of Residence'].astype('str') \n",
    "temp_map = {'0.0' : 'less_year_in_house', '1.0': '1_year_in_house', '2.0':'2_year_in_house', '3.0': '3_year_in_house', '4.0': '4_year_in_house', '5.0': '5_year_in_house', '6.0': '6_year_in_house', '7.0': '7_year_in_house', '8.0': '8_year_in_house', '9.0': '9_year_in_house', '10.0': '10_year_in_house', '11.0': '11_year_in_house', '12.0': '12_year_in_house', '13.0': '13_year_in_house', '14.0': '14_year_in_house', '15.0': 'greater14_year_in_house'}\n",
    "df['Length of Residence'] = df['Length of Residence'].map(temp_map)\n",
    "temp_df = pd.get_dummies(df['Length of Residence'],dummy_na=True)\n",
    "temp_df.columns = temp_df.columns.fillna('length_of_residence_default')\n",
    "df = pd.concat([df.drop('Length of Residence', axis=1), temp_df], axis=1)"
   ]
  },
  {
   "cell_type": "code",
   "execution_count": 24,
   "metadata": {
    "collapsed": true
   },
   "outputs": [],
   "source": [
    "# Home Market Value -> 10\n",
    "\n",
    "temp_map = {'A' : 'home_market_A','B': 'home_market_A', 'C':'home_market_B', 'D': 'home_market_B', 'E': 'home_market_C', 'F': 'home_market_C', 'G': 'home_market_D', 'H': 'home_market_D', 'I': 'home_market_E', 'J': 'home_market_E', 'K': 'home_market_G', 'L': 'home_market_G', 'M': 'home_market_H', 'N': 'home_market_H', 'O': 'home_market_I', 'P': 'home_market_I','Q': 'home_market_J', 'R': 'home_market_J', 'S': 'home_market_K'}\n",
    "df['Home Market Value'] = df['Home Market Value'].map(temp_map)\n",
    "temp_df = pd.get_dummies(df['Home Market Value'],dummy_na=True)\n",
    "temp_df.columns = temp_df.columns.fillna('home_market_default')\n",
    "df = pd.concat([df.drop('Home Market Value', axis=1), temp_df], axis=1)\n"
   ]
  },
  {
   "cell_type": "code",
   "execution_count": 25,
   "metadata": {
    "collapsed": true
   },
   "outputs": [],
   "source": [
    "# Number of Vehicles -> 1_car, 2_cars, 3_or_more_cars, car_default\n",
    "df['Number of Vehicles'] = df['Number of Vehicles'].astype('str')\n",
    "temp_map = {'1.0': '1_car', '2.0':'2_cars','3.0':'3_or_more_cars' }\n",
    "\n",
    "df['Number of Vehicles'] = df['Number of Vehicles'].map(temp_map)\n",
    "temp_df = pd.get_dummies(df['Number of Vehicles'],dummy_na=True)\n",
    "temp_df.columns = temp_df.columns.fillna('car_default')\n",
    "df = pd.concat([df.drop('Number of Vehicles', axis=1), temp_df], axis=1)"
   ]
  },
  {
   "cell_type": "code",
   "execution_count": 26,
   "metadata": {
    "collapsed": true
   },
   "outputs": [],
   "source": [
    "df = df.drop('Vehicle Make Code', axis=1)\n",
    "df = df.drop('Vehicle Model Code', axis=1)"
   ]
  },
  {
   "cell_type": "code",
   "execution_count": 27,
   "metadata": {
    "collapsed": true
   },
   "outputs": [],
   "source": [
    "# Vehicle Year -> 3\n",
    "temp_df = pd.get_dummies(pd.cut(df['Vehicle Year'], 3, labels=[\"old_car\", \"medium_car\", \"new_car\"]),dummy_na=True)\n",
    "temp_df.columns = temp_df.columns.fillna('car_year_default')\n",
    "df = pd.concat([df.drop('Vehicle Year', axis=1), temp_df], axis=1)"
   ]
  },
  {
   "cell_type": "code",
   "execution_count": 28,
   "metadata": {
    "collapsed": true
   },
   "outputs": [],
   "source": [
    "# Net Worth -> 3\n",
    "temp_df = pd.get_dummies(pd.cut(df['Net Worth'], 3, labels=[\"poor\", \"middle_class\", \"rich\"]),dummy_na=True)\n",
    "temp_df.columns = temp_df.columns.fillna('net_worth_default')\n",
    "df = pd.concat([df.drop('Net Worth', axis=1), temp_df], axis=1)"
   ]
  },
  {
   "cell_type": "code",
   "execution_count": 29,
   "metadata": {
    "collapsed": true
   },
   "outputs": [],
   "source": [
    "# Income\n",
    "temp_map = {'A': 10, 'B':11 ,'C':12, 'D':13 }\n",
    "df['Income'] = df['Income'].apply(lambda x: temp_map.get(x, x))\n",
    "\n",
    "temp_df = pd.get_dummies(df['Income'],dummy_na=True)\n",
    "temp_df.columns = temp_df.columns.fillna('income_default')\n",
    "df = pd.concat([df.drop('Income', axis=1), temp_df], axis=1)\n"
   ]
  },
  {
   "cell_type": "code",
   "execution_count": 30,
   "metadata": {
    "collapsed": true
   },
   "outputs": [],
   "source": [
    "# Gender Individual\n",
    "temp_map = {'M': 'male', 'F':'female'}\n",
    "\n",
    "df['Gender Individual'] = df['Gender Individual'].map(temp_map)\n",
    "temp_df = pd.get_dummies(df['Gender Individual'],dummy_na=True)\n",
    "temp_df.columns = temp_df.columns.fillna('gender_default')\n",
    "df = pd.concat([df.drop('Gender Individual', axis=1), temp_df], axis=1)"
   ]
  },
  {
   "cell_type": "code",
   "execution_count": 31,
   "metadata": {
    "collapsed": true
   },
   "outputs": [],
   "source": [
    "# Age of individuals -> 10 + default\n",
    "labels = np.arange(10,100,10)\n",
    "labels = ['age_individual_'+str(x) for x in labels]\n",
    "\n",
    "temp_df = pd.cut(df['Age of individuals'],range(10,110,10),labels=labels )\n",
    "temp_df = pd.get_dummies(temp_df,dummy_na=True)\n",
    "temp_df.columns = temp_df.columns.fillna('age_individuals_default')\n",
    "df = pd.concat([df.drop('Age of individuals', axis=1), temp_df], axis=1)"
   ]
  },
  {
   "cell_type": "code",
   "execution_count": 32,
   "metadata": {
    "collapsed": true
   },
   "outputs": [],
   "source": [
    "# Education Input Individuals\n",
    "df['Education Input Individuals'] = df['Education Input Individuals'].astype('str')\n",
    "temp_map = {'1.0': 'individuals_low_education', '2.0':'individuals_middle_education','3.0': 'individuals_middle-high_education', '4.0': 'individuals_high_education'}\n",
    "\n",
    "df['Education Input Individuals'] = df['Education Input Individuals'].map(temp_map)\n",
    "temp_df = pd.get_dummies(df['Education Input Individuals'],dummy_na=True)\n",
    "temp_df.columns = temp_df.columns.fillna('education_individuals_default')\n",
    "df = pd.concat([df.drop('Education Input Individuals', axis=1), temp_df], axis=1)"
   ]
  },
  {
   "cell_type": "code",
   "execution_count": 33,
   "metadata": {
    "collapsed": true
   },
   "outputs": [],
   "source": [
    "df = df.drop(['Occupation Input Individuals','Occupation - 1st Individual','Occupation - 2nd Individual','Occupation - 3rd Individual','Occupation - 4th Individual','Occupation - 5th Individual'],axis=1)"
   ]
  },
  {
   "cell_type": "code",
   "execution_count": 34,
   "metadata": {
    "collapsed": true
   },
   "outputs": [],
   "source": [
    "# 'Education of 1st Individual'\n",
    "df['Education of 1st Individual'] = df['Education of 1st Individual'].astype('str')\n",
    "temp_map = {'1.0': 'individuals_1st_low_education', '2.0':'individuals_1st_middle_education','3.0': 'individuals_1st_middle-high_education', '4.0': 'individuals_1st_high_education'}\n",
    "\n",
    "df['Education of 1st Individual'] = df['Education of 1st Individual'].map(temp_map)\n",
    "temp_df = pd.get_dummies(df['Education of 1st Individual'],dummy_na=True)\n",
    "temp_df.columns = temp_df.columns.fillna('education_1st_individuals_default')\n",
    "df = pd.concat([df.drop('Education of 1st Individual', axis=1), temp_df], axis=1)\n"
   ]
  },
  {
   "cell_type": "code",
   "execution_count": 35,
   "metadata": {
    "collapsed": true
   },
   "outputs": [],
   "source": [
    "# 'Education of 2nd Individual'\n",
    "df['Education of 2nd Individual'] = df['Education of 2nd Individual'].astype('str')\n",
    "temp_map = {'1.0': 'individuals_2nd_low_education', '2.0':'individuals_2nd_middle_education','3.0': 'individuals_2nd_middle-high_education', '4.0': 'individuals_2nd_high_education'}\n",
    "\n",
    "df['Education of 2nd Individual'] = df['Education of 2nd Individual'].map(temp_map)\n",
    "temp_df = pd.get_dummies(df['Education of 2nd Individual'],dummy_na=True)\n",
    "temp_df.columns = temp_df.columns.fillna('education_2nd_individuals_default')\n",
    "df = pd.concat([df.drop('Education of 2nd Individual', axis=1), temp_df], axis=1)"
   ]
  },
  {
   "cell_type": "code",
   "execution_count": 36,
   "metadata": {
    "collapsed": true
   },
   "outputs": [],
   "source": [
    "# 'Education of 3rd Individual'\n",
    "df['Education of 3rd Individual'] = df['Education of 3rd Individual'].astype('str')\n",
    "temp_map = {'1.0': 'individuals_3rd_low_education', '2.0':'individuals_3rd_middle_education','3.0': 'individuals_3rd_middle-high_education', '4.0': 'individuals_3rd_high_education'}\n",
    "\n",
    "df['Education of 3rd Individual'] = df['Education of 3rd Individual'].map(temp_map)\n",
    "temp_df = pd.get_dummies(df['Education of 3rd Individual'],dummy_na=True)\n",
    "temp_df.columns = temp_df.columns.fillna('education_3rd_individuals_default')\n",
    "df = pd.concat([df.drop('Education of 3rd Individual', axis=1), temp_df], axis=1)"
   ]
  },
  {
   "cell_type": "code",
   "execution_count": 37,
   "metadata": {
    "collapsed": true
   },
   "outputs": [],
   "source": [
    "# 'Education of 4th Individual'\n",
    "df['Education 4th Individual'] = df['Education 4th Individual'].astype('str')\n",
    "temp_map = {'1.0': 'individuals_4th_low_education', '2.0':'individuals_4th_middle_education','3.0': 'individuals_4th_middle-high_education', '4.0': 'individuals_4th_high_education'}\n",
    "\n",
    "df['Education 4th Individual'] = df['Education 4th Individual'].map(temp_map)\n",
    "temp_df = pd.get_dummies(df['Education 4th Individual'],dummy_na=True)\n",
    "temp_df.columns = temp_df.columns.fillna('education_4th_individuals_default')\n",
    "df = pd.concat([df.drop('Education 4th Individual', axis=1), temp_df], axis=1)"
   ]
  },
  {
   "cell_type": "code",
   "execution_count": 38,
   "metadata": {
    "collapsed": true
   },
   "outputs": [],
   "source": [
    "# 'Education of 5th Individual'\n",
    "df['Education of 5th Individual'] = df['Education of 5th Individual'].astype('str')\n",
    "temp_map = {'1.0': 'individuals_5th_low_education', '2.0':'individuals_5th_middle_education','3.0': 'individuals_5th_middle-high_education', '4.0': 'individuals_5th_high_education'}\n",
    "\n",
    "df['Education of 5th Individual'] = df['Education of 5th Individual'].map(temp_map)\n",
    "temp_df = pd.get_dummies(df['Education of 5th Individual'],dummy_na=True)\n",
    "temp_df.columns = temp_df.columns.fillna('education_5th_individuals_default')\n",
    "df = pd.concat([df.drop('Education of 5th Individual', axis=1), temp_df], axis=1)"
   ]
  },
  {
   "cell_type": "code",
   "execution_count": 39,
   "metadata": {
    "collapsed": true
   },
   "outputs": [],
   "source": [
    "# Age of the 2nd individual -> 10 + default\n",
    "labels = np.arange(10,100,10)\n",
    "labels = ['age_2_individual_'+str(x) for x in labels]\n",
    "\n",
    "temp_df = pd.cut(df['Age of the 2nd individual'],range(10,110,10),labels=labels )\n",
    "temp_df = pd.get_dummies(temp_df,dummy_na=True)\n",
    "temp_df.columns = temp_df.columns.fillna('age_2_individuals_default')\n",
    "df = pd.concat([df.drop('Age of the 2nd individual', axis=1), temp_df], axis=1)"
   ]
  },
  {
   "cell_type": "code",
   "execution_count": 40,
   "metadata": {
    "collapsed": true
   },
   "outputs": [],
   "source": [
    "# Age of the 3rd individual -> 10 + default\n",
    "labels = np.arange(10,100,10)\n",
    "labels = ['age_3_individual_'+str(x) for x in labels]\n",
    "\n",
    "temp_df = pd.cut(df['Age of the 3rd individual'],range(10,110,10),labels=labels )\n",
    "temp_df = pd.get_dummies(temp_df,dummy_na=True)\n",
    "temp_df.columns = temp_df.columns.fillna('age_3_individuals_default')\n",
    "df = pd.concat([df.drop('Age of the 3rd individual', axis=1), temp_df], axis=1)\n",
    "\n",
    "# Age of 4th Individual -> 10 + default\n",
    "labels = np.arange(10,100,10)\n",
    "labels = ['age_4_individual_'+str(x) for x in labels]\n",
    "\n",
    "temp_df = pd.cut(df['Age of 4th Individual'],range(10,110,10),labels=labels )\n",
    "temp_df = pd.get_dummies(temp_df,dummy_na=True)\n",
    "temp_df.columns = temp_df.columns.fillna('age_4_individuals_default')\n",
    "df = pd.concat([df.drop('Age of 4th Individual', axis=1), temp_df], axis=1)\n",
    "\n",
    "# Age of 5th Individual -> 10 + default\n",
    "labels = np.arange(10,100,10)\n",
    "labels = ['age_5_individual_'+str(x) for x in labels]\n",
    "\n",
    "temp_df = pd.cut(df['Age of 5th Individual'],range(10,110,10),labels=labels )\n",
    "temp_df = pd.get_dummies(temp_df,dummy_na=True)\n",
    "temp_df.columns = temp_df.columns.fillna('age_5_individuals_default')\n",
    "df = pd.concat([df.drop('Age of 5th Individual', axis=1), temp_df], axis=1)"
   ]
  },
  {
   "cell_type": "code",
   "execution_count": 41,
   "metadata": {
    "collapsed": true
   },
   "outputs": [],
   "source": [
    "# 'Political Party - 1st Individual'\n",
    "temp_map = {'V': 'political_registered_no_party', 'R':'political_registered_republican' ,'D':'political_registered_democrat', 'I':'political_registered_independent' }\n",
    "df['Political Party - 1st Individual'] = df['Political Party - 1st Individual'].map(temp_map)\n",
    "\n",
    "temp_df = pd.get_dummies(df['Political Party - 1st Individual'],dummy_na=True)\n",
    "temp_df.columns = temp_df.columns.fillna('political_registered_default')\n",
    "df = pd.concat([df.drop('Political Party - 1st Individual', axis=1), temp_df], axis=1)\n",
    "\n"
   ]
  },
  {
   "cell_type": "code",
   "execution_count": 42,
   "metadata": {
    "collapsed": true
   },
   "outputs": [
    {
     "ename": "KeyError",
     "evalue": "'Voter/Party'",
     "traceback": [
      "\u001b[1;31m---------------------------------------------------------------------------\u001b[0m",
      "\u001b[1;31mKeyError\u001b[0m                                  Traceback (most recent call last)",
      "\u001b[1;32mC:\\ProgramData\\Anaconda3\\lib\\site-packages\\pandas\\core\\indexes\\base.py\u001b[0m in \u001b[0;36mget_loc\u001b[1;34m(self, key, method, tolerance)\u001b[0m\n\u001b[0;32m   2524\u001b[0m             \u001b[1;32mtry\u001b[0m\u001b[1;33m:\u001b[0m\u001b[1;33m\u001b[0m\u001b[0m\n\u001b[1;32m-> 2525\u001b[1;33m                 \u001b[1;32mreturn\u001b[0m \u001b[0mself\u001b[0m\u001b[1;33m.\u001b[0m\u001b[0m_engine\u001b[0m\u001b[1;33m.\u001b[0m\u001b[0mget_loc\u001b[0m\u001b[1;33m(\u001b[0m\u001b[0mkey\u001b[0m\u001b[1;33m)\u001b[0m\u001b[1;33m\u001b[0m\u001b[0m\n\u001b[0m\u001b[0;32m   2526\u001b[0m             \u001b[1;32mexcept\u001b[0m \u001b[0mKeyError\u001b[0m\u001b[1;33m:\u001b[0m\u001b[1;33m\u001b[0m\u001b[0m\n",
      "\u001b[1;32mpandas/_libs/index.pyx\u001b[0m in \u001b[0;36mpandas._libs.index.IndexEngine.get_loc\u001b[1;34m()\u001b[0m\n",
      "\u001b[1;32mpandas/_libs/index.pyx\u001b[0m in \u001b[0;36mpandas._libs.index.IndexEngine.get_loc\u001b[1;34m()\u001b[0m\n",
      "\u001b[1;32mpandas/_libs/hashtable_class_helper.pxi\u001b[0m in \u001b[0;36mpandas._libs.hashtable.PyObjectHashTable.get_item\u001b[1;34m()\u001b[0m\n",
      "\u001b[1;32mpandas/_libs/hashtable_class_helper.pxi\u001b[0m in \u001b[0;36mpandas._libs.hashtable.PyObjectHashTable.get_item\u001b[1;34m()\u001b[0m\n",
      "\u001b[1;31mKeyError\u001b[0m: 'Voter/Party'",
      "\nDuring handling of the above exception, another exception occurred:\n",
      "\u001b[1;31mKeyError\u001b[0m                                  Traceback (most recent call last)",
      "\u001b[1;32m<ipython-input-42-632fdbd28948>\u001b[0m in \u001b[0;36m<module>\u001b[1;34m()\u001b[0m\n\u001b[0;32m      1\u001b[0m \u001b[1;31m# 'Voter/Party'\u001b[0m\u001b[1;33m\u001b[0m\u001b[1;33m\u001b[0m\u001b[0m\n\u001b[0;32m      2\u001b[0m \u001b[0mtemp_map\u001b[0m \u001b[1;33m=\u001b[0m \u001b[1;33m{\u001b[0m\u001b[1;34m'V'\u001b[0m\u001b[1;33m:\u001b[0m \u001b[1;34m'political_individual_input_no_party'\u001b[0m\u001b[1;33m,\u001b[0m \u001b[1;34m'R'\u001b[0m\u001b[1;33m:\u001b[0m\u001b[1;34m'political_individual_input_republican'\u001b[0m \u001b[1;33m,\u001b[0m\u001b[1;34m'D'\u001b[0m\u001b[1;33m:\u001b[0m\u001b[1;34m'political_individual_input_democrat'\u001b[0m\u001b[1;33m,\u001b[0m \u001b[1;34m'I'\u001b[0m\u001b[1;33m:\u001b[0m\u001b[1;34m'political_individual_input_independent'\u001b[0m \u001b[1;33m}\u001b[0m\u001b[1;33m\u001b[0m\u001b[0m\n\u001b[1;32m----> 3\u001b[1;33m \u001b[0mdf\u001b[0m\u001b[1;33m[\u001b[0m\u001b[1;34m'Voter/Party'\u001b[0m\u001b[1;33m]\u001b[0m \u001b[1;33m=\u001b[0m \u001b[0mdf\u001b[0m\u001b[1;33m[\u001b[0m\u001b[1;34m'Voter/Party'\u001b[0m\u001b[1;33m]\u001b[0m\u001b[1;33m.\u001b[0m\u001b[0mmap\u001b[0m\u001b[1;33m(\u001b[0m\u001b[0mtemp_map\u001b[0m\u001b[1;33m)\u001b[0m\u001b[1;33m\u001b[0m\u001b[0m\n\u001b[0m\u001b[0;32m      4\u001b[0m \u001b[1;33m\u001b[0m\u001b[0m\n\u001b[0;32m      5\u001b[0m \u001b[0mtemp_df\u001b[0m \u001b[1;33m=\u001b[0m \u001b[0mpd\u001b[0m\u001b[1;33m.\u001b[0m\u001b[0mget_dummies\u001b[0m\u001b[1;33m(\u001b[0m\u001b[0mdf\u001b[0m\u001b[1;33m[\u001b[0m\u001b[1;34m'Voter/Party'\u001b[0m\u001b[1;33m]\u001b[0m\u001b[1;33m,\u001b[0m\u001b[0mdummy_na\u001b[0m\u001b[1;33m=\u001b[0m\u001b[1;32mTrue\u001b[0m\u001b[1;33m)\u001b[0m\u001b[1;33m\u001b[0m\u001b[0m\n",
      "\u001b[1;32mC:\\ProgramData\\Anaconda3\\lib\\site-packages\\pandas\\core\\frame.py\u001b[0m in \u001b[0;36m__getitem__\u001b[1;34m(self, key)\u001b[0m\n\u001b[0;32m   2137\u001b[0m             \u001b[1;32mreturn\u001b[0m \u001b[0mself\u001b[0m\u001b[1;33m.\u001b[0m\u001b[0m_getitem_multilevel\u001b[0m\u001b[1;33m(\u001b[0m\u001b[0mkey\u001b[0m\u001b[1;33m)\u001b[0m\u001b[1;33m\u001b[0m\u001b[0m\n\u001b[0;32m   2138\u001b[0m         \u001b[1;32melse\u001b[0m\u001b[1;33m:\u001b[0m\u001b[1;33m\u001b[0m\u001b[0m\n\u001b[1;32m-> 2139\u001b[1;33m             \u001b[1;32mreturn\u001b[0m \u001b[0mself\u001b[0m\u001b[1;33m.\u001b[0m\u001b[0m_getitem_column\u001b[0m\u001b[1;33m(\u001b[0m\u001b[0mkey\u001b[0m\u001b[1;33m)\u001b[0m\u001b[1;33m\u001b[0m\u001b[0m\n\u001b[0m\u001b[0;32m   2140\u001b[0m \u001b[1;33m\u001b[0m\u001b[0m\n\u001b[0;32m   2141\u001b[0m     \u001b[1;32mdef\u001b[0m \u001b[0m_getitem_column\u001b[0m\u001b[1;33m(\u001b[0m\u001b[0mself\u001b[0m\u001b[1;33m,\u001b[0m \u001b[0mkey\u001b[0m\u001b[1;33m)\u001b[0m\u001b[1;33m:\u001b[0m\u001b[1;33m\u001b[0m\u001b[0m\n",
      "\u001b[1;32mC:\\ProgramData\\Anaconda3\\lib\\site-packages\\pandas\\core\\frame.py\u001b[0m in \u001b[0;36m_getitem_column\u001b[1;34m(self, key)\u001b[0m\n\u001b[0;32m   2149\u001b[0m         \u001b[0mresult\u001b[0m \u001b[1;33m=\u001b[0m \u001b[0mself\u001b[0m\u001b[1;33m.\u001b[0m\u001b[0m_constructor\u001b[0m\u001b[1;33m(\u001b[0m\u001b[0mself\u001b[0m\u001b[1;33m.\u001b[0m\u001b[0m_data\u001b[0m\u001b[1;33m.\u001b[0m\u001b[0mget\u001b[0m\u001b[1;33m(\u001b[0m\u001b[0mkey\u001b[0m\u001b[1;33m)\u001b[0m\u001b[1;33m)\u001b[0m\u001b[1;33m\u001b[0m\u001b[0m\n\u001b[0;32m   2150\u001b[0m         \u001b[1;32mif\u001b[0m \u001b[0mresult\u001b[0m\u001b[1;33m.\u001b[0m\u001b[0mcolumns\u001b[0m\u001b[1;33m.\u001b[0m\u001b[0mis_unique\u001b[0m\u001b[1;33m:\u001b[0m\u001b[1;33m\u001b[0m\u001b[0m\n\u001b[1;32m-> 2151\u001b[1;33m             \u001b[0mresult\u001b[0m \u001b[1;33m=\u001b[0m \u001b[0mresult\u001b[0m\u001b[1;33m[\u001b[0m\u001b[0mkey\u001b[0m\u001b[1;33m]\u001b[0m\u001b[1;33m\u001b[0m\u001b[0m\n\u001b[0m\u001b[0;32m   2152\u001b[0m \u001b[1;33m\u001b[0m\u001b[0m\n\u001b[0;32m   2153\u001b[0m         \u001b[1;32mreturn\u001b[0m \u001b[0mresult\u001b[0m\u001b[1;33m\u001b[0m\u001b[0m\n",
      "\u001b[1;32mC:\\ProgramData\\Anaconda3\\lib\\site-packages\\pandas\\core\\frame.py\u001b[0m in \u001b[0;36m__getitem__\u001b[1;34m(self, key)\u001b[0m\n\u001b[0;32m   2137\u001b[0m             \u001b[1;32mreturn\u001b[0m \u001b[0mself\u001b[0m\u001b[1;33m.\u001b[0m\u001b[0m_getitem_multilevel\u001b[0m\u001b[1;33m(\u001b[0m\u001b[0mkey\u001b[0m\u001b[1;33m)\u001b[0m\u001b[1;33m\u001b[0m\u001b[0m\n\u001b[0;32m   2138\u001b[0m         \u001b[1;32melse\u001b[0m\u001b[1;33m:\u001b[0m\u001b[1;33m\u001b[0m\u001b[0m\n\u001b[1;32m-> 2139\u001b[1;33m             \u001b[1;32mreturn\u001b[0m \u001b[0mself\u001b[0m\u001b[1;33m.\u001b[0m\u001b[0m_getitem_column\u001b[0m\u001b[1;33m(\u001b[0m\u001b[0mkey\u001b[0m\u001b[1;33m)\u001b[0m\u001b[1;33m\u001b[0m\u001b[0m\n\u001b[0m\u001b[0;32m   2140\u001b[0m \u001b[1;33m\u001b[0m\u001b[0m\n\u001b[0;32m   2141\u001b[0m     \u001b[1;32mdef\u001b[0m \u001b[0m_getitem_column\u001b[0m\u001b[1;33m(\u001b[0m\u001b[0mself\u001b[0m\u001b[1;33m,\u001b[0m \u001b[0mkey\u001b[0m\u001b[1;33m)\u001b[0m\u001b[1;33m:\u001b[0m\u001b[1;33m\u001b[0m\u001b[0m\n",
      "\u001b[1;32mC:\\ProgramData\\Anaconda3\\lib\\site-packages\\pandas\\core\\frame.py\u001b[0m in \u001b[0;36m_getitem_column\u001b[1;34m(self, key)\u001b[0m\n\u001b[0;32m   2144\u001b[0m         \u001b[1;31m# get column\u001b[0m\u001b[1;33m\u001b[0m\u001b[1;33m\u001b[0m\u001b[0m\n\u001b[0;32m   2145\u001b[0m         \u001b[1;32mif\u001b[0m \u001b[0mself\u001b[0m\u001b[1;33m.\u001b[0m\u001b[0mcolumns\u001b[0m\u001b[1;33m.\u001b[0m\u001b[0mis_unique\u001b[0m\u001b[1;33m:\u001b[0m\u001b[1;33m\u001b[0m\u001b[0m\n\u001b[1;32m-> 2146\u001b[1;33m             \u001b[1;32mreturn\u001b[0m \u001b[0mself\u001b[0m\u001b[1;33m.\u001b[0m\u001b[0m_get_item_cache\u001b[0m\u001b[1;33m(\u001b[0m\u001b[0mkey\u001b[0m\u001b[1;33m)\u001b[0m\u001b[1;33m\u001b[0m\u001b[0m\n\u001b[0m\u001b[0;32m   2147\u001b[0m \u001b[1;33m\u001b[0m\u001b[0m\n\u001b[0;32m   2148\u001b[0m         \u001b[1;31m# duplicate columns & possible reduce dimensionality\u001b[0m\u001b[1;33m\u001b[0m\u001b[1;33m\u001b[0m\u001b[0m\n",
      "\u001b[1;32mC:\\ProgramData\\Anaconda3\\lib\\site-packages\\pandas\\core\\generic.py\u001b[0m in \u001b[0;36m_get_item_cache\u001b[1;34m(self, item)\u001b[0m\n\u001b[0;32m   1840\u001b[0m         \u001b[0mres\u001b[0m \u001b[1;33m=\u001b[0m \u001b[0mcache\u001b[0m\u001b[1;33m.\u001b[0m\u001b[0mget\u001b[0m\u001b[1;33m(\u001b[0m\u001b[0mitem\u001b[0m\u001b[1;33m)\u001b[0m\u001b[1;33m\u001b[0m\u001b[0m\n\u001b[0;32m   1841\u001b[0m         \u001b[1;32mif\u001b[0m \u001b[0mres\u001b[0m \u001b[1;32mis\u001b[0m \u001b[1;32mNone\u001b[0m\u001b[1;33m:\u001b[0m\u001b[1;33m\u001b[0m\u001b[0m\n\u001b[1;32m-> 1842\u001b[1;33m             \u001b[0mvalues\u001b[0m \u001b[1;33m=\u001b[0m \u001b[0mself\u001b[0m\u001b[1;33m.\u001b[0m\u001b[0m_data\u001b[0m\u001b[1;33m.\u001b[0m\u001b[0mget\u001b[0m\u001b[1;33m(\u001b[0m\u001b[0mitem\u001b[0m\u001b[1;33m)\u001b[0m\u001b[1;33m\u001b[0m\u001b[0m\n\u001b[0m\u001b[0;32m   1843\u001b[0m             \u001b[0mres\u001b[0m \u001b[1;33m=\u001b[0m \u001b[0mself\u001b[0m\u001b[1;33m.\u001b[0m\u001b[0m_box_item_values\u001b[0m\u001b[1;33m(\u001b[0m\u001b[0mitem\u001b[0m\u001b[1;33m,\u001b[0m \u001b[0mvalues\u001b[0m\u001b[1;33m)\u001b[0m\u001b[1;33m\u001b[0m\u001b[0m\n\u001b[0;32m   1844\u001b[0m             \u001b[0mcache\u001b[0m\u001b[1;33m[\u001b[0m\u001b[0mitem\u001b[0m\u001b[1;33m]\u001b[0m \u001b[1;33m=\u001b[0m \u001b[0mres\u001b[0m\u001b[1;33m\u001b[0m\u001b[0m\n",
      "\u001b[1;32mC:\\ProgramData\\Anaconda3\\lib\\site-packages\\pandas\\core\\internals.py\u001b[0m in \u001b[0;36mget\u001b[1;34m(self, item, fastpath)\u001b[0m\n\u001b[0;32m   3841\u001b[0m \u001b[1;33m\u001b[0m\u001b[0m\n\u001b[0;32m   3842\u001b[0m             \u001b[1;32mif\u001b[0m \u001b[1;32mnot\u001b[0m \u001b[0misna\u001b[0m\u001b[1;33m(\u001b[0m\u001b[0mitem\u001b[0m\u001b[1;33m)\u001b[0m\u001b[1;33m:\u001b[0m\u001b[1;33m\u001b[0m\u001b[0m\n\u001b[1;32m-> 3843\u001b[1;33m                 \u001b[0mloc\u001b[0m \u001b[1;33m=\u001b[0m \u001b[0mself\u001b[0m\u001b[1;33m.\u001b[0m\u001b[0mitems\u001b[0m\u001b[1;33m.\u001b[0m\u001b[0mget_loc\u001b[0m\u001b[1;33m(\u001b[0m\u001b[0mitem\u001b[0m\u001b[1;33m)\u001b[0m\u001b[1;33m\u001b[0m\u001b[0m\n\u001b[0m\u001b[0;32m   3844\u001b[0m             \u001b[1;32melse\u001b[0m\u001b[1;33m:\u001b[0m\u001b[1;33m\u001b[0m\u001b[0m\n\u001b[0;32m   3845\u001b[0m                 \u001b[0mindexer\u001b[0m \u001b[1;33m=\u001b[0m \u001b[0mnp\u001b[0m\u001b[1;33m.\u001b[0m\u001b[0marange\u001b[0m\u001b[1;33m(\u001b[0m\u001b[0mlen\u001b[0m\u001b[1;33m(\u001b[0m\u001b[0mself\u001b[0m\u001b[1;33m.\u001b[0m\u001b[0mitems\u001b[0m\u001b[1;33m)\u001b[0m\u001b[1;33m)\u001b[0m\u001b[1;33m[\u001b[0m\u001b[0misna\u001b[0m\u001b[1;33m(\u001b[0m\u001b[0mself\u001b[0m\u001b[1;33m.\u001b[0m\u001b[0mitems\u001b[0m\u001b[1;33m)\u001b[0m\u001b[1;33m]\u001b[0m\u001b[1;33m\u001b[0m\u001b[0m\n",
      "\u001b[1;32mC:\\ProgramData\\Anaconda3\\lib\\site-packages\\pandas\\core\\indexes\\base.py\u001b[0m in \u001b[0;36mget_loc\u001b[1;34m(self, key, method, tolerance)\u001b[0m\n\u001b[0;32m   2525\u001b[0m                 \u001b[1;32mreturn\u001b[0m \u001b[0mself\u001b[0m\u001b[1;33m.\u001b[0m\u001b[0m_engine\u001b[0m\u001b[1;33m.\u001b[0m\u001b[0mget_loc\u001b[0m\u001b[1;33m(\u001b[0m\u001b[0mkey\u001b[0m\u001b[1;33m)\u001b[0m\u001b[1;33m\u001b[0m\u001b[0m\n\u001b[0;32m   2526\u001b[0m             \u001b[1;32mexcept\u001b[0m \u001b[0mKeyError\u001b[0m\u001b[1;33m:\u001b[0m\u001b[1;33m\u001b[0m\u001b[0m\n\u001b[1;32m-> 2527\u001b[1;33m                 \u001b[1;32mreturn\u001b[0m \u001b[0mself\u001b[0m\u001b[1;33m.\u001b[0m\u001b[0m_engine\u001b[0m\u001b[1;33m.\u001b[0m\u001b[0mget_loc\u001b[0m\u001b[1;33m(\u001b[0m\u001b[0mself\u001b[0m\u001b[1;33m.\u001b[0m\u001b[0m_maybe_cast_indexer\u001b[0m\u001b[1;33m(\u001b[0m\u001b[0mkey\u001b[0m\u001b[1;33m)\u001b[0m\u001b[1;33m)\u001b[0m\u001b[1;33m\u001b[0m\u001b[0m\n\u001b[0m\u001b[0;32m   2528\u001b[0m \u001b[1;33m\u001b[0m\u001b[0m\n\u001b[0;32m   2529\u001b[0m         \u001b[0mindexer\u001b[0m \u001b[1;33m=\u001b[0m \u001b[0mself\u001b[0m\u001b[1;33m.\u001b[0m\u001b[0mget_indexer\u001b[0m\u001b[1;33m(\u001b[0m\u001b[1;33m[\u001b[0m\u001b[0mkey\u001b[0m\u001b[1;33m]\u001b[0m\u001b[1;33m,\u001b[0m \u001b[0mmethod\u001b[0m\u001b[1;33m=\u001b[0m\u001b[0mmethod\u001b[0m\u001b[1;33m,\u001b[0m \u001b[0mtolerance\u001b[0m\u001b[1;33m=\u001b[0m\u001b[0mtolerance\u001b[0m\u001b[1;33m)\u001b[0m\u001b[1;33m\u001b[0m\u001b[0m\n",
      "\u001b[1;32mpandas/_libs/index.pyx\u001b[0m in \u001b[0;36mpandas._libs.index.IndexEngine.get_loc\u001b[1;34m()\u001b[0m\n",
      "\u001b[1;32mpandas/_libs/index.pyx\u001b[0m in \u001b[0;36mpandas._libs.index.IndexEngine.get_loc\u001b[1;34m()\u001b[0m\n",
      "\u001b[1;32mpandas/_libs/hashtable_class_helper.pxi\u001b[0m in \u001b[0;36mpandas._libs.hashtable.PyObjectHashTable.get_item\u001b[1;34m()\u001b[0m\n",
      "\u001b[1;32mpandas/_libs/hashtable_class_helper.pxi\u001b[0m in \u001b[0;36mpandas._libs.hashtable.PyObjectHashTable.get_item\u001b[1;34m()\u001b[0m\n",
      "\u001b[1;31mKeyError\u001b[0m: 'Voter/Party'"
     ],
     "output_type": "error"
    }
   ],
   "source": [
    "# 'Voter/Party'\n",
    "temp_map = {'V': 'political_individual_input_no_party', 'R':'political_individual_input_republican' ,'D':'political_individual_input_democrat', 'I':'political_individual_input_independent' }\n",
    "df['Voter/Party'] = df['Voter/Party'].map(temp_map)\n",
    "\n",
    "temp_df = pd.get_dummies(df['Voter/Party'],dummy_na=True)\n",
    "temp_df.columns = temp_df.columns.fillna('political_individual_input_default')\n",
    "df = pd.concat([df.drop('Voter/Party', axis=1), temp_df], axis=1)"
   ]
  },
  {
   "cell_type": "code",
   "execution_count": 42,
   "metadata": {
    "collapsed": true
   },
   "outputs": [],
   "source": [
    "df = df.drop(['Household Clusters', 'Insurance Groups', 'Financial Groups', 'Green Living', 'dma', 'dma-code', 'household-id', 'household-type', 'mso_code',\n",
    "       'mso_name', 'system-type', 'zipcode'],axis=1)"
   ]
  },
  {
   "cell_type": "code",
   "execution_count": 43,
   "metadata": {
    "collapsed": true
   },
   "outputs": [],
   "source": [
    "df.drop_duplicates(inplace=True)"
   ]
  },
  {
   "cell_type": "code",
   "execution_count": 44,
   "metadata": {
    "collapsed": true
   },
   "outputs": [],
   "source": [
    "df.to_csv('demographic_features.csv')"
   ]
  },
  {
   "cell_type": "code",
   "execution_count": 9,
   "metadata": {},
   "outputs": [
    {
     "name": "stderr",
     "output_type": "stream",
     "text": [
      "C:\\ProgramData\\Anaconda3\\lib\\site-packages\\IPython\\core\\interactiveshell.py:2785: DtypeWarning: Columns (52) have mixed types. Specify dtype option on import or set low_memory=False.\n",
      "  interactivity=interactivity, compiler=compiler, result=result)\n"
     ]
    }
   ],
   "source": [
    "data_path = os.path.join(path, 'data','demographic_features.csv')\n",
    "df = pd.read_csv(data_path, index_col=0)"
   ]
  },
  {
   "cell_type": "code",
   "execution_count": 33,
   "metadata": {},
   "outputs": [
    {
     "data": {
      "text/plain": [
       "317694"
      ]
     },
     "execution_count": 33,
     "metadata": {},
     "output_type": "execute_result"
    }
   ],
   "source": [
    "df.drop_duplicates().shape[0]"
   ]
  },
  {
   "cell_type": "code",
   "execution_count": 46,
   "metadata": {},
   "outputs": [
    {
     "data": {
      "text/plain": [
       "dtype('int64')"
      ]
     },
     "execution_count": 46,
     "metadata": {},
     "output_type": "execute_result"
    }
   ],
   "source": [
    "df['unknown_gender75'].dtype\n"
   ]
  },
  {
   "cell_type": "code",
   "execution_count": 128,
   "metadata": {},
   "outputs": [
    {
     "name": "stdout",
     "output_type": "stream",
     "text": [
      "551 ms ± 14.7 ms per loop (mean ± std. dev. of 7 runs, 1 loop each)\n"
     ]
    }
   ],
   "source": [
    "%%timeit\n",
    "pos = count()\n",
    "a = df.drop(columns='Household ID').as_matrix()\n",
    "a = a.sum(axis=0)\n",
    "{'d_{}'.format(coll): next(pos) for coll in df.columns[np.where(a > 5)[0] + 1] }\n"
   ]
  },
  {
   "cell_type": "code",
   "execution_count": 122,
   "metadata": {},
   "outputs": [
    {
     "data": {
      "text/plain": [
       "array([  1,   2,   3,   4,   5,   6,   7,   8,   9,  10,  11,  12,  13,\n",
       "        14,  15,  16,  17,  18,  19,  20,  21,  22,  23,  25,  26,  27,\n",
       "        28,  29,  30,  31,  32,  33,  34,  35,  36,  37,  38,  39,  40,\n",
       "        41,  42,  43,  44,  45,  46,  47,  48,  49,  50,  51,  52,  53,\n",
       "        54,  55,  56,  57,  58,  59,  60,  61,  62,  63,  64,  65,  66,\n",
       "        67,  68,  69,  70,  71,  72,  73,  74,  75,  76,  77,  78,  79,\n",
       "        80,  81,  82,  84,  85,  86,  87,  88,  89,  90,  91,  92,  93,\n",
       "        94,  95,  96,  97,  98,  99, 100, 101, 102, 103, 104, 105, 106,\n",
       "       107, 108, 109, 110, 111, 112, 113, 114, 115, 116, 117, 118, 119,\n",
       "       120, 121, 122, 123, 124, 125, 126, 127, 128, 129, 130, 131, 132,\n",
       "       133, 134, 135, 136, 137, 138, 139, 140, 141, 142, 143, 144, 145,\n",
       "       146, 147, 148, 149, 150, 151, 152, 153, 154, 155, 156, 157, 158,\n",
       "       159, 160, 161, 162, 163, 164, 165, 166, 167, 168, 169, 170, 171,\n",
       "       172, 173, 174, 175, 176, 177, 178, 179, 180, 181, 182, 183, 184,\n",
       "       185, 186, 187, 188, 189, 190, 191, 192, 193, 194, 195, 196, 197,\n",
       "       198, 199, 200, 201, 202, 203, 204, 205, 206, 207, 208, 209, 210,\n",
       "       211, 212, 213, 214, 215, 216, 217, 218, 219, 220, 221, 222, 223,\n",
       "       224, 225, 226, 227, 228, 229, 230, 231, 232, 233, 234, 235, 236,\n",
       "       237, 238, 239, 240, 241, 242, 243, 244, 245, 246, 247, 248, 249,\n",
       "       250, 251], dtype=int64)"
      ]
     },
     "execution_count": 122,
     "metadata": {},
     "output_type": "execute_result"
    }
   ],
   "source": [
    "\n",
    "np.where(a > 5)[0] + 1\n",
    "\n",
    "# a.groupby(['unknown_gender75']).groups\n",
    "# a.loc[[240419, 442890], 'unknown_gender75']"
   ]
  }
 ],
 "metadata": {
  "kernelspec": {
   "display_name": "Python 3",
   "language": "python",
   "name": "python3"
  },
  "language_info": {
   "codemirror_mode": {
    "name": "ipython",
    "version": 3
   },
   "file_extension": ".py",
   "mimetype": "text/x-python",
   "name": "python",
   "nbconvert_exporter": "python",
   "pygments_lexer": "ipython3",
   "version": "3.6.5"
  }
 },
 "nbformat": 4,
 "nbformat_minor": 2
}
